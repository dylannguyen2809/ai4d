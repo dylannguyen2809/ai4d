{
 "cells": [
  {
   "cell_type": "markdown",
   "id": "08f805a7",
   "metadata": {},
   "source": [
    "# Data Preprocessing\n",
    "\n",
    "Train/Dev/Test splits, outlier trimming, filling in missing values etc. should be done here. Save new DataFrame to a file whne done."
   ]
  },
  {
   "cell_type": "code",
   "execution_count": 16,
   "id": "5db2f51b",
   "metadata": {},
   "outputs": [],
   "source": [
    "import pandas as pd\n",
    "import seaborn as sns\n",
    "from sklearn.linear_model import LinearRegression, LogisticRegression\n",
    "from sklearn.model_selection import train_test_split\n",
    "from sklearn.metrics import accuracy_score"
   ]
  },
  {
   "cell_type": "code",
   "execution_count": 17,
   "id": "24ee6e8c",
   "metadata": {},
   "outputs": [
    {
     "data": {
      "text/html": [
       "<div>\n",
       "<style scoped>\n",
       "    .dataframe tbody tr th:only-of-type {\n",
       "        vertical-align: middle;\n",
       "    }\n",
       "\n",
       "    .dataframe tbody tr th {\n",
       "        vertical-align: top;\n",
       "    }\n",
       "\n",
       "    .dataframe thead th {\n",
       "        text-align: right;\n",
       "    }\n",
       "</style>\n",
       "<table border=\"1\" class=\"dataframe\">\n",
       "  <thead>\n",
       "    <tr style=\"text-align: right;\">\n",
       "      <th></th>\n",
       "      <th>Column Name</th>\n",
       "      <th>Definition</th>\n",
       "    </tr>\n",
       "  </thead>\n",
       "  <tbody>\n",
       "    <tr>\n",
       "      <th>0</th>\n",
       "      <td>id</td>\n",
       "      <td>Unique identifier for each tourist</td>\n",
       "    </tr>\n",
       "    <tr>\n",
       "      <th>1</th>\n",
       "      <td>country</td>\n",
       "      <td>The country a tourist coming  from.</td>\n",
       "    </tr>\n",
       "    <tr>\n",
       "      <th>2</th>\n",
       "      <td>age_group</td>\n",
       "      <td>The age group of a tourist.</td>\n",
       "    </tr>\n",
       "    <tr>\n",
       "      <th>3</th>\n",
       "      <td>travel_with</td>\n",
       "      <td>The relation of people a tourist travel with t...</td>\n",
       "    </tr>\n",
       "    <tr>\n",
       "      <th>4</th>\n",
       "      <td>total_female</td>\n",
       "      <td>Total number of females</td>\n",
       "    </tr>\n",
       "    <tr>\n",
       "      <th>5</th>\n",
       "      <td>total_male</td>\n",
       "      <td>Total number of males</td>\n",
       "    </tr>\n",
       "    <tr>\n",
       "      <th>6</th>\n",
       "      <td>purpose</td>\n",
       "      <td>The purpose of visiting  Tanzania</td>\n",
       "    </tr>\n",
       "    <tr>\n",
       "      <th>7</th>\n",
       "      <td>main_activity</td>\n",
       "      <td>The main activity of tourism in Tanzania</td>\n",
       "    </tr>\n",
       "    <tr>\n",
       "      <th>8</th>\n",
       "      <td>infor_source</td>\n",
       "      <td>The source of information about tourism in Tan...</td>\n",
       "    </tr>\n",
       "    <tr>\n",
       "      <th>9</th>\n",
       "      <td>tour_arrangment</td>\n",
       "      <td>The arrangment of visiting Tanzania</td>\n",
       "    </tr>\n",
       "    <tr>\n",
       "      <th>10</th>\n",
       "      <td>package_transport_int</td>\n",
       "      <td>If the tour package include international tran...</td>\n",
       "    </tr>\n",
       "    <tr>\n",
       "      <th>11</th>\n",
       "      <td>package_accomodation</td>\n",
       "      <td>If the tour package include accommodation service</td>\n",
       "    </tr>\n",
       "    <tr>\n",
       "      <th>12</th>\n",
       "      <td>package_food</td>\n",
       "      <td>If the tour package include food service</td>\n",
       "    </tr>\n",
       "    <tr>\n",
       "      <th>13</th>\n",
       "      <td>package_transport_tz</td>\n",
       "      <td>If the tour package include transport service ...</td>\n",
       "    </tr>\n",
       "    <tr>\n",
       "      <th>14</th>\n",
       "      <td>package_sightseeing</td>\n",
       "      <td>If the tour package include sightseeing service</td>\n",
       "    </tr>\n",
       "    <tr>\n",
       "      <th>15</th>\n",
       "      <td>package_guided_tour</td>\n",
       "      <td>If the tour package include tour guide</td>\n",
       "    </tr>\n",
       "    <tr>\n",
       "      <th>16</th>\n",
       "      <td>package_insurance</td>\n",
       "      <td>if the tour package include insurance service</td>\n",
       "    </tr>\n",
       "    <tr>\n",
       "      <th>17</th>\n",
       "      <td>night_mainland</td>\n",
       "      <td>Number of nights a tourist spent in Tanzania m...</td>\n",
       "    </tr>\n",
       "    <tr>\n",
       "      <th>18</th>\n",
       "      <td>night_zanzibar</td>\n",
       "      <td>Number of nights a tourist spent in Zanzibar</td>\n",
       "    </tr>\n",
       "    <tr>\n",
       "      <th>19</th>\n",
       "      <td>first_trip_tz</td>\n",
       "      <td>If it was a first  trip to Tanzania</td>\n",
       "    </tr>\n",
       "    <tr>\n",
       "      <th>20</th>\n",
       "      <td>cost_category</td>\n",
       "      <td>The range of expenditures a tourist spends in ...</td>\n",
       "    </tr>\n",
       "  </tbody>\n",
       "</table>\n",
       "</div>"
      ],
      "text/plain": [
       "              Column Name                                         Definition\n",
       "0                      id                 Unique identifier for each tourist\n",
       "1                 country                The country a tourist coming  from.\n",
       "2               age_group                        The age group of a tourist.\n",
       "3             travel_with  The relation of people a tourist travel with t...\n",
       "4            total_female                            Total number of females\n",
       "5              total_male                              Total number of males\n",
       "6                 purpose                  The purpose of visiting  Tanzania\n",
       "7           main_activity           The main activity of tourism in Tanzania\n",
       "8            infor_source  The source of information about tourism in Tan...\n",
       "9         tour_arrangment                The arrangment of visiting Tanzania\n",
       "10  package_transport_int  If the tour package include international tran...\n",
       "11   package_accomodation  If the tour package include accommodation service\n",
       "12           package_food           If the tour package include food service\n",
       "13   package_transport_tz  If the tour package include transport service ...\n",
       "14    package_sightseeing    If the tour package include sightseeing service\n",
       "15    package_guided_tour             If the tour package include tour guide\n",
       "16      package_insurance      if the tour package include insurance service\n",
       "17         night_mainland  Number of nights a tourist spent in Tanzania m...\n",
       "18         night_zanzibar       Number of nights a tourist spent in Zanzibar\n",
       "19          first_trip_tz                If it was a first  trip to Tanzania\n",
       "20          cost_category  The range of expenditures a tourist spends in ..."
      ]
     },
     "execution_count": 17,
     "metadata": {},
     "output_type": "execute_result"
    }
   ],
   "source": [
    "all_data = pd.read_csv(\"data/Train.csv\", index_col=\"Tour_ID\").sort_index()\n",
    "descriptions = pd.read_csv(\"data/VariableDefinitions.csv\")\n",
    "descriptions"
   ]
  },
  {
   "cell_type": "code",
   "execution_count": 19,
   "id": "335349a7",
   "metadata": {},
   "outputs": [
    {
     "data": {
      "text/plain": [
       "(18506, 20)"
      ]
     },
     "execution_count": 19,
     "metadata": {},
     "output_type": "execute_result"
    }
   ],
   "source": [
    "all_data.shape"
   ]
  },
  {
   "cell_type": "markdown",
   "id": "e65a2ab6",
   "metadata": {},
   "source": [
    "### Data Cleaning"
   ]
  },
  {
   "cell_type": "markdown",
   "id": "f48c1e57",
   "metadata": {},
   "source": [
    "We need to replace the NaN values in the data with something else - in this case, it will be the average value from that column."
   ]
  },
  {
   "cell_type": "markdown",
   "id": "893f7d00",
   "metadata": {},
   "source": [
    "### One-Hot Encoding\n",
    "\n",
    "One-Hot Encoding is a way to represent our categorical variables as numbers, and hence make them compatible with a ML model. In this convention, each \"type\" in a single column is made into a column of its own, and the rows which have this type are assigned a 1 for that type's respective column and 0 otherwise."
   ]
  },
  {
   "cell_type": "code",
   "execution_count": 20,
   "id": "3a72d683",
   "metadata": {},
   "outputs": [
    {
     "data": {
      "text/plain": [
       "Tour_ID\n",
       "tour_id000yfpco     Lower Cost\n",
       "tour_id000zcjd9     Lower Cost\n",
       "tour_id003q62x6      High Cost\n",
       "tour_id0071kq5v      High Cost\n",
       "tour_id00bp42je    Higher Cost\n",
       "Name: cost_category, dtype: object"
      ]
     },
     "execution_count": 20,
     "metadata": {},
     "output_type": "execute_result"
    }
   ],
   "source": [
    "X = all_data.iloc[:, :-1]\n",
    "y = all_data.iloc[:,-1]\n",
    "\n",
    "y.head()"
   ]
  },
  {
   "cell_type": "code",
   "execution_count": 21,
   "id": "692ba980",
   "metadata": {},
   "outputs": [],
   "source": [
    "X_encoded = pd.get_dummies(X, columns = ['country','age_group', 'travel_with', 'purpose', 'main_activity',\n",
    "'info_source', 'tour_arrangement', 'package_transport_int', 'package_accomodation', 'package_food', 'package_transport_tz', 'package_sightseeing', 'package_guided_tour', 'package_insurance', 'first_trip_tz'])\n",
    "\n",
    "#y: cost cateogry remapping\n",
    "cost_map = {\n",
    "    'Lower Cost': 0,\n",
    "    'Low Cost': 1,\n",
    "    'Normal Cost': 2,\n",
    "    'High Cost': 3,\n",
    "    'Higher Cost': 4,\n",
    "    'Highest Cost': 5\n",
    "}\n",
    "\n",
    "y_encoded = y.map(cost_map)"
   ]
  },
  {
   "cell_type": "markdown",
   "id": "12912c3d",
   "metadata": {},
   "source": [
    "### Train, Dev, Test split"
   ]
  },
  {
   "cell_type": "code",
   "execution_count": 33,
   "id": "e89d1250",
   "metadata": {},
   "outputs": [
    {
     "data": {
      "text/plain": [
       "Tour_ID\n",
       "tour_idsbyhxvdd    4\n",
       "tour_idow4l3eyx    0\n",
       "tour_idymdnwrph    2\n",
       "tour_idoo7t7yy4    3\n",
       "tour_id4xae89ya    2\n",
       "                  ..\n",
       "tour_id60ifd9h8    3\n",
       "tour_idomwrwgkz    1\n",
       "tour_idy63entdc    1\n",
       "tour_idbrvvt0ty    3\n",
       "tour_id58lyplbs    4\n",
       "Name: cost_category, Length: 5552, dtype: int64"
      ]
     },
     "execution_count": 33,
     "metadata": {},
     "output_type": "execute_result"
    }
   ],
   "source": [
    "X_train, X_test, y_train, y_test = train_test_split(X_encoded, y_encoded, test_size=0.3, random_state=12)\n",
    "y_test"
   ]
  },
  {
   "cell_type": "markdown",
   "id": "d710bb43",
   "metadata": {},
   "source": [
    "Now the training set is in the train DataFrame, while the dev set is in the dev DataFrame."
   ]
  },
  {
   "cell_type": "markdown",
   "id": "d2a9d089",
   "metadata": {},
   "source": [
    "Saving train and test sets to files so we can just reload them later:"
   ]
  },
  {
   "cell_type": "code",
   "execution_count": 35,
   "id": "37d168b5",
   "metadata": {},
   "outputs": [],
   "source": [
    "X_train.to_csv(\"data/X_train.csv\", index=False)\n",
    "X_test.to_csv(\"data/X_test.csv\", index=False)\n",
    "y_train.to_csv(\"data/y_train.csv\", index=False)\n",
    "y_test.to_csv(\"data/y_test.csv\", index=False)"
   ]
  },
  {
   "cell_type": "code",
   "execution_count": null,
   "id": "bfbc1625",
   "metadata": {},
   "outputs": [],
   "source": []
  }
 ],
 "metadata": {
  "kernelspec": {
   "display_name": "Python 3 (ipykernel)",
   "language": "python",
   "name": "python3"
  },
  "language_info": {
   "codemirror_mode": {
    "name": "ipython",
    "version": 3
   },
   "file_extension": ".py",
   "mimetype": "text/x-python",
   "name": "python",
   "nbconvert_exporter": "python",
   "pygments_lexer": "ipython3",
   "version": "3.10.9"
  }
 },
 "nbformat": 4,
 "nbformat_minor": 5
}
