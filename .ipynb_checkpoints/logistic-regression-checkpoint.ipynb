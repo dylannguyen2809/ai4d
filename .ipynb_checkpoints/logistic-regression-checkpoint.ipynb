{
 "cells": [
  {
   "cell_type": "markdown",
   "id": "574094bc",
   "metadata": {},
   "source": [
    "# Logistic Regression\n",
    "\n",
    "Here's an attempt to fit a logistic regression model to our exisiting data! Obviously more data preprocessing etc. will make the model better, but this notebook intends to show that a model can be successfully fit to the data."
   ]
  },
  {
   "cell_type": "code",
   "execution_count": 170,
   "id": "35033db9",
   "metadata": {},
   "outputs": [],
   "source": [
    "import pandas as pd\n",
    "import seaborn as sns\n",
    "import matplotlib.pyplot as plt\n",
    "import numpy as np\n",
    "import tensorflow as tf\n",
    "from tensorflow import keras\n",
    "from tensorflow.keras import layers\n",
    "\n",
    "from sklearn.linear_model import LinearRegression, LogisticRegression\n",
    "from sklearn.model_selection import train_test_split\n",
    "from sklearn.metrics import accuracy_score, log_loss\n",
    "from sklearn.impute import SimpleImputer\n",
    "from sklearn.metrics import confusion_matrix, ConfusionMatrixDisplay"
   ]
  },
  {
   "cell_type": "code",
   "execution_count": 101,
   "id": "432c79fe",
   "metadata": {},
   "outputs": [],
   "source": [
    "X_train = pd.read_csv(\"data/X_train.csv\")\n",
    "X_test = pd.read_csv(\"data/X_test.csv\")\n",
    "y_train = pd.read_csv(\"data/y_train.csv\")\n",
    "y_test = pd.read_csv(\"data/y_test.csv\")"
   ]
  },
  {
   "cell_type": "code",
   "execution_count": 102,
   "id": "834e4397",
   "metadata": {},
   "outputs": [
    {
     "data": {
      "text/plain": [
       "(5552, 1)"
      ]
     },
     "execution_count": 102,
     "metadata": {},
     "output_type": "execute_result"
    }
   ],
   "source": [
    "y_test.shape"
   ]
  },
  {
   "cell_type": "code",
   "execution_count": 103,
   "id": "b2f83167",
   "metadata": {},
   "outputs": [],
   "source": [
    "imp = SimpleImputer(missing_values=np.nan, strategy='mean', keep_empty_features=True)\n",
    "imp.fit(X_train)\n",
    "X_train = imp.transform(X_train)\n",
    "imp.fit(X_test)\n",
    "X_test = imp.transform(X_test)\n",
    "imp.fit(y_train)\n",
    "y_train = imp.transform(y_train)\n",
    "imp.fit(y_test)\n",
    "y_test = imp.transform(y_test)"
   ]
  },
  {
   "cell_type": "code",
   "execution_count": 104,
   "id": "2401a47e",
   "metadata": {},
   "outputs": [
    {
     "data": {
      "text/plain": [
       "(5552, 189)"
      ]
     },
     "execution_count": 104,
     "metadata": {},
     "output_type": "execute_result"
    }
   ],
   "source": [
    "X_test.shape"
   ]
  },
  {
   "cell_type": "code",
   "execution_count": 105,
   "id": "3dd08a3f",
   "metadata": {},
   "outputs": [
    {
     "data": {
      "text/plain": [
       "(12954, 189)"
      ]
     },
     "execution_count": 105,
     "metadata": {},
     "output_type": "execute_result"
    }
   ],
   "source": [
    "X_train.shape"
   ]
  },
  {
   "cell_type": "markdown",
   "id": "c335d7b6",
   "metadata": {},
   "source": [
    "### Training the model\n",
    "Here, we're training an out-of-the-box logisitic regression model to fit this data"
   ]
  },
  {
   "cell_type": "code",
   "execution_count": 165,
   "id": "b88afb70",
   "metadata": {},
   "outputs": [],
   "source": [
    "model = LogisticRegression(multi_class='ovr', solver='liblinear', max_iter=500)"
   ]
  },
  {
   "cell_type": "code",
   "execution_count": 166,
   "id": "fb3cb4c7",
   "metadata": {},
   "outputs": [
    {
     "name": "stderr",
     "output_type": "stream",
     "text": [
      "/Users/dylannguyen/anaconda3/lib/python3.10/site-packages/sklearn/utils/validation.py:1143: DataConversionWarning: A column-vector y was passed when a 1d array was expected. Please change the shape of y to (n_samples, ), for example using ravel().\n",
      "  y = column_or_1d(y, warn=True)\n"
     ]
    },
    {
     "data": {
      "text/html": [
       "<style>#sk-container-id-8 {color: black;background-color: white;}#sk-container-id-8 pre{padding: 0;}#sk-container-id-8 div.sk-toggleable {background-color: white;}#sk-container-id-8 label.sk-toggleable__label {cursor: pointer;display: block;width: 100%;margin-bottom: 0;padding: 0.3em;box-sizing: border-box;text-align: center;}#sk-container-id-8 label.sk-toggleable__label-arrow:before {content: \"▸\";float: left;margin-right: 0.25em;color: #696969;}#sk-container-id-8 label.sk-toggleable__label-arrow:hover:before {color: black;}#sk-container-id-8 div.sk-estimator:hover label.sk-toggleable__label-arrow:before {color: black;}#sk-container-id-8 div.sk-toggleable__content {max-height: 0;max-width: 0;overflow: hidden;text-align: left;background-color: #f0f8ff;}#sk-container-id-8 div.sk-toggleable__content pre {margin: 0.2em;color: black;border-radius: 0.25em;background-color: #f0f8ff;}#sk-container-id-8 input.sk-toggleable__control:checked~div.sk-toggleable__content {max-height: 200px;max-width: 100%;overflow: auto;}#sk-container-id-8 input.sk-toggleable__control:checked~label.sk-toggleable__label-arrow:before {content: \"▾\";}#sk-container-id-8 div.sk-estimator input.sk-toggleable__control:checked~label.sk-toggleable__label {background-color: #d4ebff;}#sk-container-id-8 div.sk-label input.sk-toggleable__control:checked~label.sk-toggleable__label {background-color: #d4ebff;}#sk-container-id-8 input.sk-hidden--visually {border: 0;clip: rect(1px 1px 1px 1px);clip: rect(1px, 1px, 1px, 1px);height: 1px;margin: -1px;overflow: hidden;padding: 0;position: absolute;width: 1px;}#sk-container-id-8 div.sk-estimator {font-family: monospace;background-color: #f0f8ff;border: 1px dotted black;border-radius: 0.25em;box-sizing: border-box;margin-bottom: 0.5em;}#sk-container-id-8 div.sk-estimator:hover {background-color: #d4ebff;}#sk-container-id-8 div.sk-parallel-item::after {content: \"\";width: 100%;border-bottom: 1px solid gray;flex-grow: 1;}#sk-container-id-8 div.sk-label:hover label.sk-toggleable__label {background-color: #d4ebff;}#sk-container-id-8 div.sk-serial::before {content: \"\";position: absolute;border-left: 1px solid gray;box-sizing: border-box;top: 0;bottom: 0;left: 50%;z-index: 0;}#sk-container-id-8 div.sk-serial {display: flex;flex-direction: column;align-items: center;background-color: white;padding-right: 0.2em;padding-left: 0.2em;position: relative;}#sk-container-id-8 div.sk-item {position: relative;z-index: 1;}#sk-container-id-8 div.sk-parallel {display: flex;align-items: stretch;justify-content: center;background-color: white;position: relative;}#sk-container-id-8 div.sk-item::before, #sk-container-id-8 div.sk-parallel-item::before {content: \"\";position: absolute;border-left: 1px solid gray;box-sizing: border-box;top: 0;bottom: 0;left: 50%;z-index: -1;}#sk-container-id-8 div.sk-parallel-item {display: flex;flex-direction: column;z-index: 1;position: relative;background-color: white;}#sk-container-id-8 div.sk-parallel-item:first-child::after {align-self: flex-end;width: 50%;}#sk-container-id-8 div.sk-parallel-item:last-child::after {align-self: flex-start;width: 50%;}#sk-container-id-8 div.sk-parallel-item:only-child::after {width: 0;}#sk-container-id-8 div.sk-dashed-wrapped {border: 1px dashed gray;margin: 0 0.4em 0.5em 0.4em;box-sizing: border-box;padding-bottom: 0.4em;background-color: white;}#sk-container-id-8 div.sk-label label {font-family: monospace;font-weight: bold;display: inline-block;line-height: 1.2em;}#sk-container-id-8 div.sk-label-container {text-align: center;}#sk-container-id-8 div.sk-container {/* jupyter's `normalize.less` sets `[hidden] { display: none; }` but bootstrap.min.css set `[hidden] { display: none !important; }` so we also need the `!important` here to be able to override the default hidden behavior on the sphinx rendered scikit-learn.org. See: https://github.com/scikit-learn/scikit-learn/issues/21755 */display: inline-block !important;position: relative;}#sk-container-id-8 div.sk-text-repr-fallback {display: none;}</style><div id=\"sk-container-id-8\" class=\"sk-top-container\"><div class=\"sk-text-repr-fallback\"><pre>LogisticRegression(max_iter=500, multi_class=&#x27;ovr&#x27;, solver=&#x27;liblinear&#x27;)</pre><b>In a Jupyter environment, please rerun this cell to show the HTML representation or trust the notebook. <br />On GitHub, the HTML representation is unable to render, please try loading this page with nbviewer.org.</b></div><div class=\"sk-container\" hidden><div class=\"sk-item\"><div class=\"sk-estimator sk-toggleable\"><input class=\"sk-toggleable__control sk-hidden--visually\" id=\"sk-estimator-id-8\" type=\"checkbox\" checked><label for=\"sk-estimator-id-8\" class=\"sk-toggleable__label sk-toggleable__label-arrow\">LogisticRegression</label><div class=\"sk-toggleable__content\"><pre>LogisticRegression(max_iter=500, multi_class=&#x27;ovr&#x27;, solver=&#x27;liblinear&#x27;)</pre></div></div></div></div></div>"
      ],
      "text/plain": [
       "LogisticRegression(max_iter=500, multi_class='ovr', solver='liblinear')"
      ]
     },
     "execution_count": 166,
     "metadata": {},
     "output_type": "execute_result"
    }
   ],
   "source": [
    "model.fit(X_train, y_train)"
   ]
  },
  {
   "cell_type": "code",
   "execution_count": 167,
   "id": "f5b21bb5",
   "metadata": {},
   "outputs": [
    {
     "data": {
      "text/plain": [
       "0.5502521613832853"
      ]
     },
     "execution_count": 167,
     "metadata": {},
     "output_type": "execute_result"
    }
   ],
   "source": [
    "model.score(X_test, y_test)"
   ]
  },
  {
   "cell_type": "code",
   "execution_count": 168,
   "id": "bff073c4",
   "metadata": {},
   "outputs": [
    {
     "data": {
      "image/png": "[encoded data removed]",
      "text/plain": [
       "<Figure size 640x480 with 2 Axes>"
      ]
     },
     "metadata": {},
     "output_type": "display_data"
    }
   ],
   "source": [
    "predictions = model.predict(X_test)\n",
    "cm = confusion_matrix(y_test, predictions, labels=model.classes_)\n",
    "disp = ConfusionMatrixDisplay(confusion_matrix=cm,\n",
    "                              display_labels=model.classes_)\n",
    "disp.plot()\n",
    "plt.show()"
   ]
  },
  {
   "cell_type": "code",
   "execution_count": 175,
   "id": "c223565f",
   "metadata": {},
   "outputs": [
    {
     "data": {
      "text/plain": [
       "1.1506652473256276"
      ]
     },
     "execution_count": 175,
     "metadata": {},
     "output_type": "execute_result"
    }
   ],
   "source": [
    "log_loss(y_test, model.predict_proba(X_test))"
   ]
  },
  {
   "cell_type": "markdown",
   "id": "3f775743",
   "metadata": {},
   "source": [
    "The model has a prediction accuracy of around 56% on both the train and test(dev) sets, which suggests a high bias. We should probably look into using more/different means of regression to bring this up!"
   ]
  },
  {
   "cell_type": "markdown",
   "id": "2332264f",
   "metadata": {},
   "source": [
    "### Neural Network Model\n",
    "\n",
    "Uses keras, tensorflow library"
   ]
  },
  {
   "cell_type": "code",
   "execution_count": 248,
   "id": "44d38d91",
   "metadata": {},
   "outputs": [],
   "source": [
    "inputs = keras.Input(shape=(189,))\n",
    "inputs.shape\n",
    "# Create a Normalization layer and set its internal state using the training data\n",
    "normalizer = layers.Normalization()\n",
    "normalizer.adapt(X_train)"
   ]
  },
  {
   "cell_type": "code",
   "execution_count": 259,
   "id": "221393e1",
   "metadata": {},
   "outputs": [],
   "source": [
    "#loss is 1.12 on 200 epochs\n",
    "dense = layers.Dense(256, activation=\"sigmoid\")\n",
    "x = normalizer(inputs)\n",
    "x = layers.Dense(256, activation=\"sigmoid\")(x)\n",
    "x = tf.keras.layers.Dropout(0.8)(x)\n",
    "x = layers.Dense(128, activation=\"sigmoid\")(x)\n",
    "x = layers.Dense(64, activation=\"sigmoid\")(x)\n",
    "outputs = layers.Dense(6, activation=\"softmax\")(x)"
   ]
  },
  {
   "cell_type": "code",
   "execution_count": 260,
   "id": "ef18c059",
   "metadata": {},
   "outputs": [],
   "source": [
    "model = keras.Model(inputs=inputs, outputs=outputs, name=\"ann_model\")"
   ]
  },
  {
   "cell_type": "code",
   "execution_count": 261,
   "id": "8bec2312",
   "metadata": {},
   "outputs": [
    {
     "name": "stdout",
     "output_type": "stream",
     "text": [
      "Model: \"ann_model\"\n",
      "_________________________________________________________________\n",
      " Layer (type)                Output Shape              Param #   \n",
      "=================================================================\n",
      " input_14 (InputLayer)       [(None, 189)]             0         \n",
      "                                                                 \n",
      " normalization_3 (Normalizat  (None, 189)              379       \n",
      " ion)                                                            \n",
      "                                                                 \n",
      " dense_134 (Dense)           (None, 256)               48640     \n",
      "                                                                 \n",
      " dropout_4 (Dropout)         (None, 256)               0         \n",
      "                                                                 \n",
      " dense_135 (Dense)           (None, 128)               32896     \n",
      "                                                                 \n",
      " dense_136 (Dense)           (None, 64)                8256      \n",
      "                                                                 \n",
      " dense_137 (Dense)           (None, 6)                 390       \n",
      "                                                                 \n",
      "=================================================================\n",
      "Total params: 90,561\n",
      "Trainable params: 90,182\n",
      "Non-trainable params: 379\n",
      "_________________________________________________________________\n"
     ]
    }
   ],
   "source": [
    "model.summary()"
   ]
  },
  {
   "cell_type": "code",
   "execution_count": 264,
   "id": "110a4ff3",
   "metadata": {},
   "outputs": [
    {
     "name": "stdout",
     "output_type": "stream",
     "text": [
      "Epoch 1/200\n",
      "162/162 [==============================] - 0s 2ms/step - loss: 1.0761 - accuracy: 0.5811 - val_loss: 1.0869 - val_accuracy: 0.5681\n",
      "Epoch 2/200\n",
      "162/162 [==============================] - 0s 1ms/step - loss: 1.0744 - accuracy: 0.5808 - val_loss: 1.0850 - val_accuracy: 0.5673\n",
      "Epoch 3/200\n",
      "162/162 [==============================] - 0s 1ms/step - loss: 1.0703 - accuracy: 0.5841 - val_loss: 1.0876 - val_accuracy: 0.5650\n",
      "Epoch 4/200\n",
      "162/162 [==============================] - 0s 1ms/step - loss: 1.0731 - accuracy: 0.5800 - val_loss: 1.0896 - val_accuracy: 0.5681\n",
      "Epoch 5/200\n",
      "162/162 [==============================] - 0s 1ms/step - loss: 1.0696 - accuracy: 0.5817 - val_loss: 1.0856 - val_accuracy: 0.5658\n",
      "Epoch 6/200\n",
      "162/162 [==============================] - 0s 1ms/step - loss: 1.0686 - accuracy: 0.5808 - val_loss: 1.0876 - val_accuracy: 0.5666\n",
      "Epoch 7/200\n",
      "162/162 [==============================] - 0s 1ms/step - loss: 1.0696 - accuracy: 0.5859 - val_loss: 1.0889 - val_accuracy: 0.5643\n",
      "Epoch 8/200\n",
      "162/162 [==============================] - 0s 973us/step - loss: 1.0736 - accuracy: 0.5792 - val_loss: 1.0858 - val_accuracy: 0.5662\n",
      "Epoch 9/200\n",
      "162/162 [==============================] - 0s 985us/step - loss: 1.0666 - accuracy: 0.5851 - val_loss: 1.0914 - val_accuracy: 0.5685\n",
      "Epoch 10/200\n",
      "162/162 [==============================] - 0s 954us/step - loss: 1.0716 - accuracy: 0.5811 - val_loss: 1.0864 - val_accuracy: 0.5635\n",
      "Epoch 11/200\n",
      "162/162 [==============================] - 0s 966us/step - loss: 1.0709 - accuracy: 0.5787 - val_loss: 1.0824 - val_accuracy: 0.5658\n",
      "Epoch 12/200\n",
      "162/162 [==============================] - 0s 965us/step - loss: 1.0720 - accuracy: 0.5810 - val_loss: 1.0835 - val_accuracy: 0.5635\n",
      "Epoch 13/200\n",
      "162/162 [==============================] - 0s 990us/step - loss: 1.0697 - accuracy: 0.5811 - val_loss: 1.0872 - val_accuracy: 0.5654\n",
      "Epoch 14/200\n",
      "162/162 [==============================] - 0s 1ms/step - loss: 1.0664 - accuracy: 0.5835 - val_loss: 1.0846 - val_accuracy: 0.5697\n",
      "Epoch 15/200\n",
      "162/162 [==============================] - 0s 1ms/step - loss: 1.0691 - accuracy: 0.5819 - val_loss: 1.0818 - val_accuracy: 0.5666\n",
      "Epoch 16/200\n",
      "162/162 [==============================] - 0s 1ms/step - loss: 1.0642 - accuracy: 0.5815 - val_loss: 1.0875 - val_accuracy: 0.5643\n",
      "Epoch 17/200\n",
      "162/162 [==============================] - 0s 979us/step - loss: 1.0726 - accuracy: 0.5828 - val_loss: 1.0896 - val_accuracy: 0.5639\n",
      "Epoch 18/200\n",
      "162/162 [==============================] - 0s 999us/step - loss: 1.0721 - accuracy: 0.5825 - val_loss: 1.0837 - val_accuracy: 0.5658\n",
      "Epoch 19/200\n",
      "162/162 [==============================] - 0s 953us/step - loss: 1.0677 - accuracy: 0.5858 - val_loss: 1.0842 - val_accuracy: 0.5635\n",
      "Epoch 20/200\n",
      "162/162 [==============================] - 0s 981us/step - loss: 1.0698 - accuracy: 0.5826 - val_loss: 1.0864 - val_accuracy: 0.5658\n",
      "Epoch 21/200\n",
      "162/162 [==============================] - 0s 1ms/step - loss: 1.0662 - accuracy: 0.5809 - val_loss: 1.0852 - val_accuracy: 0.5666\n",
      "Epoch 22/200\n",
      "162/162 [==============================] - 0s 1ms/step - loss: 1.0677 - accuracy: 0.5820 - val_loss: 1.0881 - val_accuracy: 0.5639\n",
      "Epoch 23/200\n",
      "162/162 [==============================] - 0s 962us/step - loss: 1.0684 - accuracy: 0.5818 - val_loss: 1.0823 - val_accuracy: 0.5670\n",
      "Epoch 24/200\n",
      "162/162 [==============================] - 0s 957us/step - loss: 1.0624 - accuracy: 0.5860 - val_loss: 1.0844 - val_accuracy: 0.5666\n",
      "Epoch 25/200\n",
      "162/162 [==============================] - 0s 954us/step - loss: 1.0663 - accuracy: 0.5882 - val_loss: 1.0850 - val_accuracy: 0.5623\n",
      "Epoch 26/200\n",
      "162/162 [==============================] - 0s 950us/step - loss: 1.0641 - accuracy: 0.5841 - val_loss: 1.0838 - val_accuracy: 0.5685\n",
      "Epoch 27/200\n",
      "162/162 [==============================] - 0s 1ms/step - loss: 1.0654 - accuracy: 0.5815 - val_loss: 1.0823 - val_accuracy: 0.5677\n",
      "Epoch 28/200\n",
      "162/162 [==============================] - 0s 964us/step - loss: 1.0625 - accuracy: 0.5846 - val_loss: 1.0899 - val_accuracy: 0.5627\n",
      "Epoch 29/200\n",
      "162/162 [==============================] - 0s 953us/step - loss: 1.0679 - accuracy: 0.5839 - val_loss: 1.0971 - val_accuracy: 0.5608\n",
      "Epoch 30/200\n",
      "162/162 [==============================] - 0s 957us/step - loss: 1.0640 - accuracy: 0.5825 - val_loss: 1.0878 - val_accuracy: 0.5670\n",
      "Epoch 31/200\n",
      "162/162 [==============================] - 0s 969us/step - loss: 1.0659 - accuracy: 0.5841 - val_loss: 1.0855 - val_accuracy: 0.5646\n",
      "Epoch 32/200\n",
      "162/162 [==============================] - 0s 959us/step - loss: 1.0661 - accuracy: 0.5812 - val_loss: 1.0867 - val_accuracy: 0.5654\n",
      "Epoch 33/200\n",
      "162/162 [==============================] - 0s 944us/step - loss: 1.0652 - accuracy: 0.5860 - val_loss: 1.0863 - val_accuracy: 0.5639\n",
      "Epoch 34/200\n",
      "162/162 [==============================] - 0s 950us/step - loss: 1.0614 - accuracy: 0.5848 - val_loss: 1.0866 - val_accuracy: 0.5654\n",
      "Epoch 35/200\n",
      "162/162 [==============================] - 0s 939us/step - loss: 1.0598 - accuracy: 0.5865 - val_loss: 1.0845 - val_accuracy: 0.5666\n",
      "Epoch 36/200\n",
      "162/162 [==============================] - 0s 1ms/step - loss: 1.0632 - accuracy: 0.5839 - val_loss: 1.0878 - val_accuracy: 0.5650\n",
      "Epoch 37/200\n",
      "162/162 [==============================] - 0s 960us/step - loss: 1.0670 - accuracy: 0.5827 - val_loss: 1.0881 - val_accuracy: 0.5685\n",
      "Epoch 38/200\n",
      "162/162 [==============================] - 0s 1ms/step - loss: 1.0607 - accuracy: 0.5863 - val_loss: 1.0929 - val_accuracy: 0.5639\n",
      "Epoch 39/200\n",
      "162/162 [==============================] - 0s 1ms/step - loss: 1.0642 - accuracy: 0.5841 - val_loss: 1.0839 - val_accuracy: 0.5662\n",
      "Epoch 40/200\n",
      "162/162 [==============================] - 0s 965us/step - loss: 1.0604 - accuracy: 0.5851 - val_loss: 1.0911 - val_accuracy: 0.5608\n",
      "Epoch 41/200\n",
      "162/162 [==============================] - 0s 944us/step - loss: 1.0633 - accuracy: 0.5824 - val_loss: 1.0857 - val_accuracy: 0.5654\n",
      "Epoch 42/200\n",
      "162/162 [==============================] - 0s 937us/step - loss: 1.0664 - accuracy: 0.5833 - val_loss: 1.0896 - val_accuracy: 0.5654\n",
      "Epoch 43/200\n",
      "162/162 [==============================] - 0s 934us/step - loss: 1.0619 - accuracy: 0.5851 - val_loss: 1.0859 - val_accuracy: 0.5662\n",
      "Epoch 44/200\n",
      "162/162 [==============================] - 0s 935us/step - loss: 1.0626 - accuracy: 0.5852 - val_loss: 1.0848 - val_accuracy: 0.5689\n",
      "Epoch 45/200\n",
      "162/162 [==============================] - 0s 949us/step - loss: 1.0607 - accuracy: 0.5828 - val_loss: 1.0862 - val_accuracy: 0.5689\n",
      "Epoch 46/200\n",
      "162/162 [==============================] - 0s 933us/step - loss: 1.0636 - accuracy: 0.5843 - val_loss: 1.0850 - val_accuracy: 0.5701\n",
      "Epoch 47/200\n",
      "162/162 [==============================] - 0s 992us/step - loss: 1.0589 - accuracy: 0.5850 - val_loss: 1.0870 - val_accuracy: 0.5666\n",
      "Epoch 48/200\n",
      "162/162 [==============================] - 0s 1ms/step - loss: 1.0597 - accuracy: 0.5842 - val_loss: 1.0811 - val_accuracy: 0.5685\n",
      "Epoch 49/200\n",
      "162/162 [==============================] - 0s 954us/step - loss: 1.0578 - accuracy: 0.5858 - val_loss: 1.0940 - val_accuracy: 0.5646\n",
      "Epoch 50/200\n",
      "162/162 [==============================] - 0s 938us/step - loss: 1.0583 - accuracy: 0.5863 - val_loss: 1.0844 - val_accuracy: 0.5654\n",
      "Epoch 51/200\n",
      "162/162 [==============================] - 0s 935us/step - loss: 1.0583 - accuracy: 0.5876 - val_loss: 1.0831 - val_accuracy: 0.5689\n",
      "Epoch 52/200\n",
      "162/162 [==============================] - 0s 937us/step - loss: 1.0601 - accuracy: 0.5850 - val_loss: 1.0911 - val_accuracy: 0.5654\n",
      "Epoch 53/200\n",
      "162/162 [==============================] - 0s 968us/step - loss: 1.0572 - accuracy: 0.5826 - val_loss: 1.0857 - val_accuracy: 0.5681\n",
      "Epoch 54/200\n",
      "162/162 [==============================] - 0s 973us/step - loss: 1.0585 - accuracy: 0.5865 - val_loss: 1.0917 - val_accuracy: 0.5631\n",
      "Epoch 55/200\n",
      "162/162 [==============================] - 0s 981us/step - loss: 1.0585 - accuracy: 0.5864 - val_loss: 1.0829 - val_accuracy: 0.5708\n",
      "Epoch 56/200\n",
      "162/162 [==============================] - 0s 987us/step - loss: 1.0549 - accuracy: 0.5914 - val_loss: 1.0867 - val_accuracy: 0.5658\n",
      "Epoch 57/200\n"
     ]
    },
    {
     "name": "stdout",
     "output_type": "stream",
     "text": [
      "162/162 [==============================] - 0s 965us/step - loss: 1.0577 - accuracy: 0.5885 - val_loss: 1.0837 - val_accuracy: 0.5716\n",
      "Epoch 58/200\n",
      "162/162 [==============================] - 0s 935us/step - loss: 1.0597 - accuracy: 0.5893 - val_loss: 1.0815 - val_accuracy: 0.5701\n",
      "Epoch 59/200\n",
      "162/162 [==============================] - 0s 928us/step - loss: 1.0575 - accuracy: 0.5876 - val_loss: 1.0874 - val_accuracy: 0.5650\n",
      "Epoch 60/200\n",
      "162/162 [==============================] - 0s 934us/step - loss: 1.0561 - accuracy: 0.5899 - val_loss: 1.0829 - val_accuracy: 0.5747\n",
      "Epoch 61/200\n",
      "162/162 [==============================] - 0s 942us/step - loss: 1.0554 - accuracy: 0.5861 - val_loss: 1.0863 - val_accuracy: 0.5673\n",
      "Epoch 62/200\n",
      "162/162 [==============================] - 0s 936us/step - loss: 1.0524 - accuracy: 0.5868 - val_loss: 1.0862 - val_accuracy: 0.5677\n",
      "Epoch 63/200\n",
      "162/162 [==============================] - 0s 937us/step - loss: 1.0557 - accuracy: 0.5891 - val_loss: 1.0811 - val_accuracy: 0.5708\n",
      "Epoch 64/200\n",
      "162/162 [==============================] - 0s 951us/step - loss: 1.0553 - accuracy: 0.5926 - val_loss: 1.0831 - val_accuracy: 0.5681\n",
      "Epoch 65/200\n",
      "162/162 [==============================] - 0s 942us/step - loss: 1.0590 - accuracy: 0.5880 - val_loss: 1.0829 - val_accuracy: 0.5658\n",
      "Epoch 66/200\n",
      "162/162 [==============================] - 0s 938us/step - loss: 1.0561 - accuracy: 0.5840 - val_loss: 1.0854 - val_accuracy: 0.5712\n",
      "Epoch 67/200\n",
      "162/162 [==============================] - 0s 933us/step - loss: 1.0557 - accuracy: 0.5890 - val_loss: 1.0840 - val_accuracy: 0.5708\n",
      "Epoch 68/200\n",
      "162/162 [==============================] - 0s 936us/step - loss: 1.0582 - accuracy: 0.5900 - val_loss: 1.0831 - val_accuracy: 0.5677\n",
      "Epoch 69/200\n",
      "162/162 [==============================] - 0s 940us/step - loss: 1.0523 - accuracy: 0.5943 - val_loss: 1.0918 - val_accuracy: 0.5639\n",
      "Epoch 70/200\n",
      "162/162 [==============================] - 0s 935us/step - loss: 1.0566 - accuracy: 0.5876 - val_loss: 1.0812 - val_accuracy: 0.5685\n",
      "Epoch 71/200\n",
      "162/162 [==============================] - 0s 940us/step - loss: 1.0511 - accuracy: 0.5868 - val_loss: 1.0848 - val_accuracy: 0.5658\n",
      "Epoch 72/200\n",
      "162/162 [==============================] - 0s 1ms/step - loss: 1.0538 - accuracy: 0.5916 - val_loss: 1.0853 - val_accuracy: 0.5673\n",
      "Epoch 73/200\n",
      "162/162 [==============================] - 0s 939us/step - loss: 1.0521 - accuracy: 0.5922 - val_loss: 1.0828 - val_accuracy: 0.5662\n",
      "Epoch 74/200\n",
      "162/162 [==============================] - 0s 980us/step - loss: 1.0518 - accuracy: 0.5932 - val_loss: 1.0837 - val_accuracy: 0.5670\n",
      "Epoch 75/200\n",
      "162/162 [==============================] - 0s 940us/step - loss: 1.0543 - accuracy: 0.5883 - val_loss: 1.0845 - val_accuracy: 0.5677\n",
      "Epoch 76/200\n",
      "162/162 [==============================] - 0s 962us/step - loss: 1.0593 - accuracy: 0.5905 - val_loss: 1.0816 - val_accuracy: 0.5701\n",
      "Epoch 77/200\n",
      "162/162 [==============================] - 0s 924us/step - loss: 1.0524 - accuracy: 0.5883 - val_loss: 1.0882 - val_accuracy: 0.5662\n",
      "Epoch 78/200\n",
      "162/162 [==============================] - 0s 988us/step - loss: 1.0520 - accuracy: 0.5872 - val_loss: 1.0823 - val_accuracy: 0.5697\n",
      "Epoch 79/200\n",
      "162/162 [==============================] - 0s 927us/step - loss: 1.0545 - accuracy: 0.5886 - val_loss: 1.0829 - val_accuracy: 0.5697\n",
      "Epoch 80/200\n",
      "162/162 [==============================] - 0s 1ms/step - loss: 1.0553 - accuracy: 0.5882 - val_loss: 1.0833 - val_accuracy: 0.5681\n",
      "Epoch 81/200\n",
      "162/162 [==============================] - 0s 1ms/step - loss: 1.0495 - accuracy: 0.5939 - val_loss: 1.0835 - val_accuracy: 0.5673\n",
      "Epoch 82/200\n",
      "162/162 [==============================] - 0s 1ms/step - loss: 1.0494 - accuracy: 0.5882 - val_loss: 1.0839 - val_accuracy: 0.5677\n",
      "Epoch 83/200\n",
      "162/162 [==============================] - 0s 940us/step - loss: 1.0499 - accuracy: 0.5906 - val_loss: 1.0838 - val_accuracy: 0.5646\n",
      "Epoch 84/200\n",
      "162/162 [==============================] - 0s 942us/step - loss: 1.0510 - accuracy: 0.5892 - val_loss: 1.0863 - val_accuracy: 0.5670\n",
      "Epoch 85/200\n",
      "162/162 [==============================] - 0s 951us/step - loss: 1.0512 - accuracy: 0.5941 - val_loss: 1.0805 - val_accuracy: 0.5662\n",
      "Epoch 86/200\n",
      "162/162 [==============================] - 0s 1ms/step - loss: 1.0501 - accuracy: 0.5949 - val_loss: 1.0802 - val_accuracy: 0.5693\n",
      "Epoch 87/200\n",
      "162/162 [==============================] - 0s 1ms/step - loss: 1.0472 - accuracy: 0.5922 - val_loss: 1.0837 - val_accuracy: 0.5639\n",
      "Epoch 88/200\n",
      "162/162 [==============================] - 0s 973us/step - loss: 1.0517 - accuracy: 0.5916 - val_loss: 1.0809 - val_accuracy: 0.5720\n",
      "Epoch 89/200\n",
      "162/162 [==============================] - 0s 955us/step - loss: 1.0498 - accuracy: 0.5947 - val_loss: 1.0814 - val_accuracy: 0.5708\n",
      "Epoch 90/200\n",
      "162/162 [==============================] - 0s 943us/step - loss: 1.0531 - accuracy: 0.5904 - val_loss: 1.0839 - val_accuracy: 0.5654\n",
      "Epoch 91/200\n",
      "162/162 [==============================] - 0s 940us/step - loss: 1.0520 - accuracy: 0.5915 - val_loss: 1.0846 - val_accuracy: 0.5650\n",
      "Epoch 92/200\n",
      "162/162 [==============================] - 0s 956us/step - loss: 1.0525 - accuracy: 0.5911 - val_loss: 1.0907 - val_accuracy: 0.5654\n",
      "Epoch 93/200\n",
      "162/162 [==============================] - 0s 955us/step - loss: 1.0486 - accuracy: 0.5916 - val_loss: 1.0845 - val_accuracy: 0.5654\n",
      "Epoch 94/200\n",
      "162/162 [==============================] - 0s 937us/step - loss: 1.0469 - accuracy: 0.5917 - val_loss: 1.0810 - val_accuracy: 0.5685\n",
      "Epoch 95/200\n",
      "162/162 [==============================] - 0s 944us/step - loss: 1.0475 - accuracy: 0.5932 - val_loss: 1.0844 - val_accuracy: 0.5631\n",
      "Epoch 96/200\n",
      "162/162 [==============================] - 0s 934us/step - loss: 1.0448 - accuracy: 0.5943 - val_loss: 1.0873 - val_accuracy: 0.5677\n",
      "Epoch 97/200\n",
      "162/162 [==============================] - 0s 949us/step - loss: 1.0500 - accuracy: 0.5919 - val_loss: 1.0874 - val_accuracy: 0.5643\n",
      "Epoch 98/200\n",
      "162/162 [==============================] - 0s 994us/step - loss: 1.0494 - accuracy: 0.5892 - val_loss: 1.0844 - val_accuracy: 0.5631\n",
      "Epoch 99/200\n",
      "162/162 [==============================] - 0s 973us/step - loss: 1.0466 - accuracy: 0.5960 - val_loss: 1.0879 - val_accuracy: 0.5643\n",
      "Epoch 100/200\n",
      "162/162 [==============================] - 0s 976us/step - loss: 1.0444 - accuracy: 0.5976 - val_loss: 1.0876 - val_accuracy: 0.5612\n",
      "Epoch 101/200\n",
      "162/162 [==============================] - 0s 985us/step - loss: 1.0474 - accuracy: 0.5939 - val_loss: 1.0862 - val_accuracy: 0.5631\n",
      "Epoch 102/200\n",
      "162/162 [==============================] - 0s 1ms/step - loss: 1.0472 - accuracy: 0.5918 - val_loss: 1.0875 - val_accuracy: 0.5666\n",
      "Epoch 103/200\n",
      "162/162 [==============================] - 0s 1ms/step - loss: 1.0530 - accuracy: 0.5922 - val_loss: 1.0873 - val_accuracy: 0.5650\n",
      "Epoch 104/200\n",
      "162/162 [==============================] - 0s 993us/step - loss: 1.0492 - accuracy: 0.5935 - val_loss: 1.0887 - val_accuracy: 0.5666\n",
      "Epoch 105/200\n",
      "162/162 [==============================] - 0s 1ms/step - loss: 1.0405 - accuracy: 0.5961 - val_loss: 1.0931 - val_accuracy: 0.5654\n",
      "Epoch 106/200\n",
      "162/162 [==============================] - 0s 946us/step - loss: 1.0458 - accuracy: 0.5892 - val_loss: 1.0900 - val_accuracy: 0.5654\n",
      "Epoch 107/200\n",
      "162/162 [==============================] - 0s 937us/step - loss: 1.0429 - accuracy: 0.5945 - val_loss: 1.0829 - val_accuracy: 0.5612\n",
      "Epoch 108/200\n",
      "162/162 [==============================] - 0s 963us/step - loss: 1.0455 - accuracy: 0.5927 - val_loss: 1.0823 - val_accuracy: 0.5654\n",
      "Epoch 109/200\n",
      "162/162 [==============================] - 0s 951us/step - loss: 1.0467 - accuracy: 0.5945 - val_loss: 1.0873 - val_accuracy: 0.5635\n",
      "Epoch 110/200\n",
      "162/162 [==============================] - 0s 982us/step - loss: 1.0492 - accuracy: 0.5888 - val_loss: 1.0918 - val_accuracy: 0.5662\n",
      "Epoch 111/200\n",
      "162/162 [==============================] - 0s 957us/step - loss: 1.0473 - accuracy: 0.5960 - val_loss: 1.0845 - val_accuracy: 0.5681\n",
      "Epoch 112/200\n",
      "162/162 [==============================] - 0s 937us/step - loss: 1.0449 - accuracy: 0.5974 - val_loss: 1.0887 - val_accuracy: 0.5635\n",
      "Epoch 113/200\n"
     ]
    },
    {
     "name": "stdout",
     "output_type": "stream",
     "text": [
      "162/162 [==============================] - 0s 934us/step - loss: 1.0490 - accuracy: 0.5947 - val_loss: 1.0860 - val_accuracy: 0.5650\n",
      "Epoch 114/200\n",
      "162/162 [==============================] - 0s 944us/step - loss: 1.0375 - accuracy: 0.5969 - val_loss: 1.0877 - val_accuracy: 0.5643\n",
      "Epoch 115/200\n",
      "162/162 [==============================] - 0s 933us/step - loss: 1.0470 - accuracy: 0.5897 - val_loss: 1.0846 - val_accuracy: 0.5654\n",
      "Epoch 116/200\n",
      "162/162 [==============================] - 0s 936us/step - loss: 1.0418 - accuracy: 0.5920 - val_loss: 1.0851 - val_accuracy: 0.5670\n",
      "Epoch 117/200\n",
      "162/162 [==============================] - 0s 979us/step - loss: 1.0419 - accuracy: 0.5925 - val_loss: 1.0841 - val_accuracy: 0.5670\n",
      "Epoch 118/200\n",
      "162/162 [==============================] - 0s 942us/step - loss: 1.0454 - accuracy: 0.5956 - val_loss: 1.0850 - val_accuracy: 0.5677\n",
      "Epoch 119/200\n",
      "162/162 [==============================] - 0s 934us/step - loss: 1.0478 - accuracy: 0.5952 - val_loss: 1.0831 - val_accuracy: 0.5693\n",
      "Epoch 120/200\n",
      "162/162 [==============================] - 0s 933us/step - loss: 1.0421 - accuracy: 0.5992 - val_loss: 1.0835 - val_accuracy: 0.5681\n",
      "Epoch 121/200\n",
      "162/162 [==============================] - 0s 928us/step - loss: 1.0458 - accuracy: 0.5962 - val_loss: 1.0838 - val_accuracy: 0.5704\n",
      "Epoch 122/200\n",
      "162/162 [==============================] - 0s 938us/step - loss: 1.0434 - accuracy: 0.5935 - val_loss: 1.0880 - val_accuracy: 0.5673\n",
      "Epoch 123/200\n",
      "162/162 [==============================] - 0s 937us/step - loss: 1.0402 - accuracy: 0.5942 - val_loss: 1.0816 - val_accuracy: 0.5681\n",
      "Epoch 124/200\n",
      "162/162 [==============================] - 0s 1ms/step - loss: 1.0430 - accuracy: 0.5952 - val_loss: 1.0856 - val_accuracy: 0.5677\n",
      "Epoch 125/200\n",
      "162/162 [==============================] - 0s 985us/step - loss: 1.0451 - accuracy: 0.5970 - val_loss: 1.0869 - val_accuracy: 0.5704\n",
      "Epoch 126/200\n",
      "162/162 [==============================] - 0s 932us/step - loss: 1.0462 - accuracy: 0.5943 - val_loss: 1.0809 - val_accuracy: 0.5681\n",
      "Epoch 127/200\n",
      "162/162 [==============================] - 0s 931us/step - loss: 1.0436 - accuracy: 0.5970 - val_loss: 1.0839 - val_accuracy: 0.5697\n",
      "Epoch 128/200\n",
      "162/162 [==============================] - 0s 948us/step - loss: 1.0416 - accuracy: 0.5967 - val_loss: 1.0842 - val_accuracy: 0.5693\n",
      "Epoch 129/200\n",
      "162/162 [==============================] - 0s 980us/step - loss: 1.0397 - accuracy: 0.5989 - val_loss: 1.0833 - val_accuracy: 0.5712\n",
      "Epoch 130/200\n",
      "162/162 [==============================] - 0s 978us/step - loss: 1.0417 - accuracy: 0.5931 - val_loss: 1.0893 - val_accuracy: 0.5677\n",
      "Epoch 131/200\n",
      "162/162 [==============================] - 0s 991us/step - loss: 1.0389 - accuracy: 0.6011 - val_loss: 1.0867 - val_accuracy: 0.5689\n",
      "Epoch 132/200\n",
      "162/162 [==============================] - 0s 1ms/step - loss: 1.0425 - accuracy: 0.5971 - val_loss: 1.0857 - val_accuracy: 0.5716\n",
      "Epoch 133/200\n",
      "162/162 [==============================] - 0s 950us/step - loss: 1.0430 - accuracy: 0.5925 - val_loss: 1.0855 - val_accuracy: 0.5697\n",
      "Epoch 134/200\n",
      "162/162 [==============================] - 0s 955us/step - loss: 1.0362 - accuracy: 0.5963 - val_loss: 1.0851 - val_accuracy: 0.5693\n",
      "Epoch 135/200\n",
      "162/162 [==============================] - 0s 986us/step - loss: 1.0399 - accuracy: 0.5937 - val_loss: 1.0810 - val_accuracy: 0.5708\n",
      "Epoch 136/200\n",
      "162/162 [==============================] - 0s 942us/step - loss: 1.0412 - accuracy: 0.5968 - val_loss: 1.0900 - val_accuracy: 0.5670\n",
      "Epoch 137/200\n",
      "162/162 [==============================] - 0s 928us/step - loss: 1.0388 - accuracy: 0.5959 - val_loss: 1.0894 - val_accuracy: 0.5681\n",
      "Epoch 138/200\n",
      "162/162 [==============================] - 0s 1ms/step - loss: 1.0377 - accuracy: 0.5967 - val_loss: 1.0921 - val_accuracy: 0.5681\n",
      "Epoch 139/200\n",
      "162/162 [==============================] - 0s 1ms/step - loss: 1.0446 - accuracy: 0.5950 - val_loss: 1.0869 - val_accuracy: 0.5689\n",
      "Epoch 140/200\n",
      "162/162 [==============================] - 0s 937us/step - loss: 1.0403 - accuracy: 0.5942 - val_loss: 1.0854 - val_accuracy: 0.5681\n",
      "Epoch 141/200\n",
      "162/162 [==============================] - 0s 931us/step - loss: 1.0434 - accuracy: 0.5957 - val_loss: 1.0900 - val_accuracy: 0.5681\n",
      "Epoch 142/200\n",
      "162/162 [==============================] - 0s 948us/step - loss: 1.0357 - accuracy: 0.5987 - val_loss: 1.0870 - val_accuracy: 0.5677\n",
      "Epoch 143/200\n",
      "162/162 [==============================] - 0s 954us/step - loss: 1.0350 - accuracy: 0.5968 - val_loss: 1.0894 - val_accuracy: 0.5689\n",
      "Epoch 144/200\n",
      "162/162 [==============================] - 0s 995us/step - loss: 1.0342 - accuracy: 0.5982 - val_loss: 1.0905 - val_accuracy: 0.5658\n",
      "Epoch 145/200\n",
      "162/162 [==============================] - 0s 953us/step - loss: 1.0401 - accuracy: 0.5930 - val_loss: 1.0945 - val_accuracy: 0.5666\n",
      "Epoch 146/200\n",
      "162/162 [==============================] - 0s 939us/step - loss: 1.0313 - accuracy: 0.5999 - val_loss: 1.0900 - val_accuracy: 0.5662\n",
      "Epoch 147/200\n",
      "162/162 [==============================] - 0s 938us/step - loss: 1.0433 - accuracy: 0.5980 - val_loss: 1.0913 - val_accuracy: 0.5693\n",
      "Epoch 148/200\n",
      "162/162 [==============================] - 0s 936us/step - loss: 1.0324 - accuracy: 0.5988 - val_loss: 1.0877 - val_accuracy: 0.5643\n",
      "Epoch 149/200\n",
      "162/162 [==============================] - 0s 1ms/step - loss: 1.0362 - accuracy: 0.5990 - val_loss: 1.0899 - val_accuracy: 0.5635\n",
      "Epoch 150/200\n",
      "162/162 [==============================] - 0s 939us/step - loss: 1.0386 - accuracy: 0.5995 - val_loss: 1.0977 - val_accuracy: 0.5639\n",
      "Epoch 151/200\n",
      "162/162 [==============================] - 0s 946us/step - loss: 1.0384 - accuracy: 0.5955 - val_loss: 1.0893 - val_accuracy: 0.5643\n",
      "Epoch 152/200\n",
      "162/162 [==============================] - 0s 941us/step - loss: 1.0358 - accuracy: 0.5994 - val_loss: 1.0923 - val_accuracy: 0.5631\n",
      "Epoch 153/200\n",
      "162/162 [==============================] - 0s 935us/step - loss: 1.0369 - accuracy: 0.5970 - val_loss: 1.0872 - val_accuracy: 0.5677\n",
      "Epoch 154/200\n",
      "162/162 [==============================] - 0s 937us/step - loss: 1.0387 - accuracy: 0.6002 - val_loss: 1.0920 - val_accuracy: 0.5670\n",
      "Epoch 155/200\n",
      "162/162 [==============================] - 0s 979us/step - loss: 1.0356 - accuracy: 0.6010 - val_loss: 1.0954 - val_accuracy: 0.5623\n",
      "Epoch 156/200\n",
      "162/162 [==============================] - 0s 981us/step - loss: 1.0321 - accuracy: 0.5997 - val_loss: 1.0929 - val_accuracy: 0.5612\n",
      "Epoch 157/200\n",
      "162/162 [==============================] - 0s 957us/step - loss: 1.0264 - accuracy: 0.6042 - val_loss: 1.0929 - val_accuracy: 0.5673\n",
      "Epoch 158/200\n",
      "162/162 [==============================] - 0s 987us/step - loss: 1.0325 - accuracy: 0.6005 - val_loss: 1.0876 - val_accuracy: 0.5662\n",
      "Epoch 159/200\n",
      "162/162 [==============================] - 0s 934us/step - loss: 1.0377 - accuracy: 0.5956 - val_loss: 1.0898 - val_accuracy: 0.5673\n",
      "Epoch 160/200\n",
      "162/162 [==============================] - 0s 932us/step - loss: 1.0309 - accuracy: 0.6043 - val_loss: 1.0878 - val_accuracy: 0.5693\n",
      "Epoch 161/200\n",
      "162/162 [==============================] - 0s 939us/step - loss: 1.0300 - accuracy: 0.6027 - val_loss: 1.0966 - val_accuracy: 0.5673\n",
      "Epoch 162/200\n",
      "162/162 [==============================] - 0s 923us/step - loss: 1.0332 - accuracy: 0.5995 - val_loss: 1.0960 - val_accuracy: 0.5646\n",
      "Epoch 163/200\n",
      "162/162 [==============================] - 0s 929us/step - loss: 1.0343 - accuracy: 0.5998 - val_loss: 1.0877 - val_accuracy: 0.5646\n",
      "Epoch 164/200\n",
      "162/162 [==============================] - 0s 941us/step - loss: 1.0300 - accuracy: 0.5992 - val_loss: 1.0907 - val_accuracy: 0.5670\n",
      "Epoch 165/200\n",
      "162/162 [==============================] - 0s 957us/step - loss: 1.0295 - accuracy: 0.6011 - val_loss: 1.0923 - val_accuracy: 0.5643\n",
      "Epoch 166/200\n",
      "162/162 [==============================] - 0s 929us/step - loss: 1.0348 - accuracy: 0.5976 - val_loss: 1.0935 - val_accuracy: 0.5685\n",
      "Epoch 167/200\n",
      "162/162 [==============================] - 0s 934us/step - loss: 1.0402 - accuracy: 0.5984 - val_loss: 1.0935 - val_accuracy: 0.5666\n",
      "Epoch 168/200\n",
      "162/162 [==============================] - 0s 939us/step - loss: 1.0345 - accuracy: 0.5984 - val_loss: 1.0888 - val_accuracy: 0.5670\n"
     ]
    },
    {
     "name": "stdout",
     "output_type": "stream",
     "text": [
      "Epoch 169/200\n",
      "162/162 [==============================] - 0s 929us/step - loss: 1.0284 - accuracy: 0.6039 - val_loss: 1.0932 - val_accuracy: 0.5654\n",
      "Epoch 170/200\n",
      "162/162 [==============================] - 0s 937us/step - loss: 1.0372 - accuracy: 0.5974 - val_loss: 1.0913 - val_accuracy: 0.5720\n",
      "Epoch 171/200\n",
      "162/162 [==============================] - 0s 940us/step - loss: 1.0366 - accuracy: 0.5985 - val_loss: 1.0907 - val_accuracy: 0.5662\n",
      "Epoch 172/200\n",
      "162/162 [==============================] - 0s 940us/step - loss: 1.0313 - accuracy: 0.6010 - val_loss: 1.0902 - val_accuracy: 0.5670\n",
      "Epoch 173/200\n",
      "162/162 [==============================] - 0s 934us/step - loss: 1.0322 - accuracy: 0.5994 - val_loss: 1.0920 - val_accuracy: 0.5646\n",
      "Epoch 174/200\n",
      "162/162 [==============================] - 0s 929us/step - loss: 1.0346 - accuracy: 0.5989 - val_loss: 1.0879 - val_accuracy: 0.5654\n",
      "Epoch 175/200\n",
      "162/162 [==============================] - 0s 944us/step - loss: 1.0328 - accuracy: 0.6021 - val_loss: 1.0888 - val_accuracy: 0.5685\n",
      "Epoch 176/200\n",
      "162/162 [==============================] - 0s 935us/step - loss: 1.0320 - accuracy: 0.5982 - val_loss: 1.0866 - val_accuracy: 0.5701\n",
      "Epoch 177/200\n",
      "162/162 [==============================] - 0s 983us/step - loss: 1.0273 - accuracy: 0.6040 - val_loss: 1.0946 - val_accuracy: 0.5662\n",
      "Epoch 178/200\n",
      "162/162 [==============================] - 0s 1ms/step - loss: 1.0311 - accuracy: 0.6018 - val_loss: 1.0982 - val_accuracy: 0.5654\n",
      "Epoch 179/200\n",
      "162/162 [==============================] - 0s 1ms/step - loss: 1.0266 - accuracy: 0.6041 - val_loss: 1.0936 - val_accuracy: 0.5650\n",
      "Epoch 180/200\n",
      "162/162 [==============================] - 0s 977us/step - loss: 1.0323 - accuracy: 0.6008 - val_loss: 1.0900 - val_accuracy: 0.5731\n",
      "Epoch 181/200\n",
      "162/162 [==============================] - 0s 1ms/step - loss: 1.0347 - accuracy: 0.6017 - val_loss: 1.0952 - val_accuracy: 0.5643\n",
      "Epoch 182/200\n",
      "162/162 [==============================] - 0s 1ms/step - loss: 1.0357 - accuracy: 0.5988 - val_loss: 1.0888 - val_accuracy: 0.5701\n",
      "Epoch 183/200\n",
      "162/162 [==============================] - 0s 1ms/step - loss: 1.0351 - accuracy: 0.6001 - val_loss: 1.0860 - val_accuracy: 0.5693\n",
      "Epoch 184/200\n",
      "162/162 [==============================] - 0s 1ms/step - loss: 1.0318 - accuracy: 0.6015 - val_loss: 1.0852 - val_accuracy: 0.5689\n",
      "Epoch 185/200\n",
      "162/162 [==============================] - 0s 935us/step - loss: 1.0298 - accuracy: 0.6027 - val_loss: 1.0883 - val_accuracy: 0.5716\n",
      "Epoch 186/200\n",
      "162/162 [==============================] - 0s 931us/step - loss: 1.0295 - accuracy: 0.6047 - val_loss: 1.0923 - val_accuracy: 0.5701\n",
      "Epoch 187/200\n",
      "162/162 [==============================] - 0s 932us/step - loss: 1.0282 - accuracy: 0.6021 - val_loss: 1.0877 - val_accuracy: 0.5666\n",
      "Epoch 188/200\n",
      "162/162 [==============================] - 0s 932us/step - loss: 1.0300 - accuracy: 0.6003 - val_loss: 1.0852 - val_accuracy: 0.5662\n",
      "Epoch 189/200\n",
      "162/162 [==============================] - 0s 988us/step - loss: 1.0262 - accuracy: 0.6033 - val_loss: 1.0969 - val_accuracy: 0.5666\n",
      "Epoch 190/200\n",
      "162/162 [==============================] - 0s 984us/step - loss: 1.0262 - accuracy: 0.6025 - val_loss: 1.0875 - val_accuracy: 0.5677\n",
      "Epoch 191/200\n",
      "162/162 [==============================] - 0s 966us/step - loss: 1.0278 - accuracy: 0.6062 - val_loss: 1.0876 - val_accuracy: 0.5689\n",
      "Epoch 192/200\n",
      "162/162 [==============================] - 0s 934us/step - loss: 1.0285 - accuracy: 0.6043 - val_loss: 1.0970 - val_accuracy: 0.5662\n",
      "Epoch 193/200\n",
      "162/162 [==============================] - 0s 950us/step - loss: 1.0333 - accuracy: 0.6016 - val_loss: 1.0908 - val_accuracy: 0.5677\n",
      "Epoch 194/200\n",
      "162/162 [==============================] - 0s 926us/step - loss: 1.0335 - accuracy: 0.5988 - val_loss: 1.0920 - val_accuracy: 0.5697\n",
      "Epoch 195/200\n",
      "162/162 [==============================] - 0s 933us/step - loss: 1.0259 - accuracy: 0.6012 - val_loss: 1.0988 - val_accuracy: 0.5654\n",
      "Epoch 196/200\n",
      "162/162 [==============================] - 0s 942us/step - loss: 1.0298 - accuracy: 0.6010 - val_loss: 1.0943 - val_accuracy: 0.5670\n",
      "Epoch 197/200\n",
      "162/162 [==============================] - 0s 930us/step - loss: 1.0339 - accuracy: 0.6008 - val_loss: 1.0960 - val_accuracy: 0.5666\n",
      "Epoch 198/200\n",
      "162/162 [==============================] - 0s 933us/step - loss: 1.0314 - accuracy: 0.6026 - val_loss: 1.0921 - val_accuracy: 0.5681\n",
      "Epoch 199/200\n",
      "162/162 [==============================] - 0s 931us/step - loss: 1.0310 - accuracy: 0.6005 - val_loss: 1.0938 - val_accuracy: 0.5662\n",
      "Epoch 200/200\n",
      "162/162 [==============================] - 0s 937us/step - loss: 1.0297 - accuracy: 0.5977 - val_loss: 1.0889 - val_accuracy: 0.5673\n",
      "174/174 - 0s - loss: 1.1266 - accuracy: 0.5569 - 65ms/epoch - 375us/step\n",
      "Test loss: 1.1265995502471924\n",
      "Test accuracy: 0.5569164156913757\n"
     ]
    }
   ],
   "source": [
    "model.compile(\n",
    "    loss=keras.losses.SparseCategoricalCrossentropy(from_logits=True),\n",
    "    optimizer=keras.optimizers.RMSprop(),\n",
    "    metrics=[\"accuracy\"],\n",
    ")\n",
    "\n",
    "history = model.fit(X_train, y_train, batch_size=64, epochs=200, validation_split=0.2)\n",
    "\n",
    "test_scores = model.evaluate(X_test, y_test, verbose=2)\n",
    "print(\"Test loss:\", test_scores[0])\n",
    "print(\"Test accuracy:\", test_scores[1])"
   ]
  },
  {
   "cell_type": "code",
   "execution_count": 265,
   "id": "3e97a98c",
   "metadata": {},
   "outputs": [
    {
     "data": {
      "image/png": "[encoded data removed]",
      "text/plain": [
       "<Figure size 640x480 with 1 Axes>"
      ]
     },
     "metadata": {},
     "output_type": "display_data"
    }
   ],
   "source": [
    "plt.plot(history.history['loss'])\n",
    "plt.plot(history.history['val_loss'])\n",
    "plt.title('model loss')\n",
    "plt.ylabel('loss')\n",
    "plt.xlabel('epoch')\n",
    "plt.legend(['train', 'val'], loc='upper left')\n",
    "plt.show()"
   ]
  },
  {
   "cell_type": "markdown",
   "id": "d0d89c36",
   "metadata": {},
   "source": []
  }
 ],
 "metadata": {
  "kernelspec": {
   "display_name": "Python 3 (ipykernel)",
   "language": "python",
   "name": "python3"
  },
  "language_info": {
   "codemirror_mode": {
    "name": "ipython",
    "version": 3
   },
   "file_extension": ".py",
   "mimetype": "text/x-python",
   "name": "python",
   "nbconvert_exporter": "python",
   "pygments_lexer": "ipython3",
   "version": "3.10.9"
  }
 },
 "nbformat": 4,
 "nbformat_minor": 5
}
